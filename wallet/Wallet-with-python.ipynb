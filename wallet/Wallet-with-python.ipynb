{
 "cells": [
  {
   "cell_type": "code",
   "execution_count": 66,
   "id": "9c1db815-1d94-45a8-ad21-fa926aad26a1",
   "metadata": {},
   "outputs": [],
   "source": [
    "# Import dependencies\n",
    "import subprocess\n",
    "import json\n",
    "from dotenv import load_dotenv\n",
    "\n",
    "import constants\n",
    "\n",
    "import os\n",
    "\n",
    "from web3 import Web3\n",
    "from bit import wif_to_key"
   ]
  },
  {
   "cell_type": "code",
   "execution_count": 48,
   "id": "ec876774-f85f-42de-961d-c2ca16fbafd2",
   "metadata": {},
   "outputs": [
    {
     "data": {
      "text/plain": [
       "True"
      ]
     },
     "execution_count": 48,
     "metadata": {},
     "output_type": "execute_result"
    }
   ],
   "source": [
    "w3 = Web3(Web3.HTTPProvider('http://127.0.0.1:7545'))\n",
    "w3.isConnected()"
   ]
  },
  {
   "cell_type": "code",
   "execution_count": 49,
   "id": "722ea7ca-b88c-4445-ba45-80f22a722781",
   "metadata": {},
   "outputs": [
    {
     "data": {
      "text/plain": [
       "'best scorpion lucky orphan shoot holiday gesture color crazy field frown cattle'"
      ]
     },
     "execution_count": 49,
     "metadata": {},
     "output_type": "execute_result"
    }
   ],
   "source": [
    "# Load and set environment variables\n",
    "load_dotenv(\"./mnenomic.dev\")\n",
    "mnemonic=os.getenv(\"MNEMONIC\")\n",
    "mnemonic"
   ]
  },
  {
   "cell_type": "code",
   "execution_count": 50,
   "id": "21d55819-0b18-4c09-a778-fdc1d63d0dfd",
   "metadata": {},
   "outputs": [],
   "source": [
    "# Create a function called `derive_wallets`\n",
    "def derive_wallets(mnemonic, coin, numderive):\n",
    "    command = f'./derive -g --mnemonic=\"{mnemonic}\" --numderive=\"{numderive}\" --coin=\"{coin}\" --format=json'\n",
    "    p = subprocess.Popen(command, stdout=subprocess.PIPE, shell=True)\n",
    "    output, err = p.communicate()\n",
    "    p_status = p.wait()\n",
    "    return json.loads(output)"
   ]
  },
  {
   "cell_type": "code",
   "execution_count": 52,
   "id": "d3e140ef-685b-4be4-b447-bad3698aa02d",
   "metadata": {},
   "outputs": [
    {
     "name": "stdout",
     "output_type": "stream",
     "text": [
      "0xe4718458d4d6a0486c3b360837ba0a52463dbdff634bcb844e52c99e89adc5bc\n",
      "cPkKfTgeKV1AKP7P1sWj3YDPw8dCbav3RcZjFgY8Q334SVJqFtBN\n"
     ]
    }
   ],
   "source": [
    "coins = {}\n",
    "\n",
    "coins[constants.ETH] = derive_wallets(mnemonic, constants.ETH, 3)\n",
    "coins[constants.BTCTEST] = derive_wallets(mnemonic, constants.BTCTEST, 3)\n",
    "coins[constants.BTC] = derive_wallets(mnemonic, constants.BTCTEST, 3)\n",
    "\n",
    "print(coins[constants.ETH][0]['privkey'])\n",
    "print(coins[constants.BTCTEST][0]['privkey'])\n",
    "#print(coins[constants.BTC][0]['privkey'])"
   ]
  },
  {
   "cell_type": "code",
   "execution_count": 64,
   "id": "f3e49bfa-aeae-4a6e-a7ba-9d0f3b0cc0bf",
   "metadata": {},
   "outputs": [],
   "source": [
    "def priv_key_to_account(coin, priv_key):\n",
    "    if coin == constants.ETH:\n",
    "        return w3.eth.account.privateKeyToAccount(priv_key)\n",
    "    if coin == constants.BTCTEST:\n",
    "        return PrivateKeyTestnet(priv_key)"
   ]
  },
  {
   "cell_type": "code",
   "execution_count": 84,
   "id": "28557b7e-9359-419f-8c24-d3a410b0c787",
   "metadata": {},
   "outputs": [
    {
     "data": {
      "text/plain": [
       "<eth_account.signers.local.LocalAccount at 0x7fd25ab1e940>"
      ]
     },
     "execution_count": 84,
     "metadata": {},
     "output_type": "execute_result"
    }
   ],
   "source": [
    "eth_acc = priv_key_to_account(constants.ETH, coins[constants.ETH][0]['privkey'])\n",
    "btctest_acc = priv_key_to_account(constants.BTCTEST, coins[constants.BTCTEST][0]['privkey'])"
   ]
  },
  {
   "cell_type": "code",
   "execution_count": 77,
   "id": "5acfc32f-6a21-4edd-a8d9-a729d0d4525a",
   "metadata": {},
   "outputs": [],
   "source": [
    "def create_trx(coin, account, to, amount):\n",
    "    global trx_data\n",
    "    if coin == constants.ETH:\n",
    "        gasEstimate = w3.eth.estimateGas(\n",
    "            {\"from\": account.address, \"to\": to, \"value\": amount}\n",
    "        )\n",
    "        trx_data = {\n",
    "            \"to\": to,\n",
    "            \"from\": account.address,\n",
    "            \"value\": amount,\n",
    "            \"gasPrice\": w3.eth.gasPrice,\n",
    "            \"gas\": gasEstimate,\n",
    "            \"nonce\": w3.eth.getTransactionCount(account.address)\n",
    "        }\n",
    "        return trx_data\n",
    "\n",
    "    if coin == constants.BTCTEST:\n",
    "        return PrivateKeyTestnet.prepare_transaction(account.address, [(recipient, amount, BTC)])"
   ]
  },
  {
   "cell_type": "code",
   "execution_count": 86,
   "id": "f7b2dc6e-bb12-4e33-9ce9-33fc2d2f97eb",
   "metadata": {},
   "outputs": [],
   "source": [
    "def send_trx(coin, account, to, amount):\n",
    "    if coin == constants.ETH: \n",
    "        trx_eth = create_trx(coin,account, to, amount)\n",
    "        sign = account.signTransaction(trx_eth)\n",
    "        result = w3.eth.sendRawTransaction(sign.rawTransaction)\n",
    "        print(result.hex())\n",
    "        return result.hex()\n",
    "    else:\n",
    "        trx_btctest = create_trx(coin,account,to,amount)\n",
    "        sign_trx_btctest = account.sign_transaction(trx_btctest)\n",
    "        from bit.network import NetworkAPI\n",
    "        NetworkAPI.broadcast_tx_testnet(sign_trx_btctest)       \n",
    "        return sign_trx_btctest"
   ]
  },
  {
   "cell_type": "code",
   "execution_count": 91,
   "id": "18630188-e77d-44c7-a891-a7bb1482e7f7",
   "metadata": {},
   "outputs": [
    {
     "name": "stdout",
     "output_type": "stream",
     "text": [
      "0x46dbf3248884c6053e252471f0be991923ae8d6f09a6e25f841a0aa79d007988\n"
     ]
    },
    {
     "data": {
      "text/plain": [
       "HexBytes('0x46dbf3248884c6053e252471f0be991923ae8d6f09a6e25f841a0aa79d007988')"
      ]
     },
     "execution_count": 91,
     "metadata": {},
     "output_type": "execute_result"
    }
   ],
   "source": [
    "raw_tx = send_trx(constants.ETH, eth_acc,\"0xf9CF39bA70AD79fEDeC5E2303d65B997e456BEfC\", w3.toWei(1, 'ether'))\n",
    "raw_tx"
   ]
  }
 ],
 "metadata": {
  "kernelspec": {
   "display_name": "Python 3",
   "language": "python",
   "name": "python3"
  },
  "language_info": {
   "codemirror_mode": {
    "name": "ipython",
    "version": 3
   },
   "file_extension": ".py",
   "mimetype": "text/x-python",
   "name": "python",
   "nbconvert_exporter": "python",
   "pygments_lexer": "ipython3",
   "version": "3.8.5"
  }
 },
 "nbformat": 4,
 "nbformat_minor": 5
}
